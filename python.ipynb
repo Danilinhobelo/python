{
  "nbformat": 4,
  "nbformat_minor": 0,
  "metadata": {
    "colab": {
      "provenance": [],
      "authorship_tag": "ABX9TyPyUnSeUQxubVgTfwMFTg6G",
      "include_colab_link": true
    },
    "kernelspec": {
      "name": "python3",
      "display_name": "Python 3"
    },
    "language_info": {
      "name": "python"
    }
  },
  "cells": [
    {
      "cell_type": "markdown",
      "metadata": {
        "id": "view-in-github",
        "colab_type": "text"
      },
      "source": [
        "<a href=\"https://colab.research.google.com/github/Danilinhobelo/python/blob/main/python.ipynb\" target=\"_parent\"><img src=\"https://colab.research.google.com/assets/colab-badge.svg\" alt=\"Open In Colab\"/></a>"
      ]
    },
    {
      "cell_type": "code",
      "execution_count": null,
      "metadata": {
        "colab": {
          "base_uri": "https://localhost:8080/"
        },
        "id": "pUbt0MNqXyZe",
        "outputId": "012d8b25-9b3e-4040-fed8-829dcd6e642b"
      },
      "outputs": [
        {
          "output_type": "stream",
          "name": "stdout",
          "text": [
            "athletico maior que o coxa porco\n"
          ]
        }
      ],
      "source": [
        " print(\"athletico maior que o coxa porco\")"
      ]
    },
    {
      "cell_type": "code",
      "source": [
        "ano = \"2010\"\n",
        "\n",
        "print(ano, \"waldir jogava no olimpico\")"
      ],
      "metadata": {
        "colab": {
          "base_uri": "https://localhost:8080/"
        },
        "id": "XvPX_gYCaDfV",
        "outputId": "57b3a628-ad51-4ff3-e5ff-285f1910574a"
      },
      "execution_count": null,
      "outputs": [
        {
          "output_type": "stream",
          "name": "stdout",
          "text": [
            "2010 waldir jogava no olimpico\n"
          ]
        }
      ]
    },
    {
      "cell_type": "code",
      "source": [
        "print(f\"{ano} competição de programa da start\")"
      ],
      "metadata": {
        "id": "ikXHV4oL4J3U",
        "outputId": "31ba0e0f-0ef3-4c67-8696-28c96da3cc8d",
        "colab": {
          "base_uri": "https://localhost:8080/"
        }
      },
      "execution_count": null,
      "outputs": [
        {
          "output_type": "stream",
          "name": "stdout",
          "text": [
            "II competição de programa da start\n"
          ]
        }
      ]
    },
    {
      "cell_type": "code",
      "source": [
        "ficcao=10\n",
        "nficcao=8\n",
        "infantil=6\n",
        "\n",
        "\n",
        "\n",
        "soma=ficcao + nficcao + infantil\n",
        "\n",
        "print(f\"a soma dos pontos de Rodrigos são {pontos_Rodrigo}\")\n",
        "\n",
        "print(soma)"
      ],
      "metadata": {
        "id": "tsUwXCH5bgo5"
      },
      "execution_count": null,
      "outputs": []
    }
  ]
}